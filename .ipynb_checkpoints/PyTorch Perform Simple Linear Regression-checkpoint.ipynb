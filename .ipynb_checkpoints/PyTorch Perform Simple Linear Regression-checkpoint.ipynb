{
 "cells": [
  {
   "cell_type": "code",
   "execution_count": 2,
   "metadata": {},
   "outputs": [],
   "source": [
    "import torch"
   ]
  },
  {
   "cell_type": "code",
   "execution_count": 3,
   "metadata": {},
   "outputs": [
    {
     "name": "stdout",
     "output_type": "stream",
     "text": [
      "torch.Size([2, 3]) \n",
      " tensor([[1., 2., 3.],\n",
      "        [4., 5., 6.]])\n"
     ]
    }
   ],
   "source": [
    "#Tensors\n",
    "x = torch.FloatTensor([[1,2,3],[4,5,6]])\n",
    "print(x.size(), \"\\n\", x)"
   ]
  },
  {
   "cell_type": "code",
   "execution_count": 4,
   "metadata": {},
   "outputs": [
    {
     "data": {
      "text/plain": [
       "tensor([[3., 4., 5.],\n",
       "        [6., 7., 8.]])"
      ]
     },
     "execution_count": 4,
     "metadata": {},
     "output_type": "execute_result"
    }
   ],
   "source": [
    "#Add tensors\n",
    "x.add_(torch.ones([2,3]) + torch.ones([2,3]))"
   ]
  },
  {
   "cell_type": "code",
   "execution_count": 5,
   "metadata": {},
   "outputs": [
    {
     "data": {
      "text/plain": [
       "tensor([[1., 2., 3.],\n",
       "        [4., 5., 6.]])"
      ]
     },
     "execution_count": 5,
     "metadata": {},
     "output_type": "execute_result"
    }
   ],
   "source": [
    "#Subtract Tensor\n",
    "x.sub_(torch.ones([2,3])*2)"
   ]
  },
  {
   "cell_type": "code",
   "execution_count": 6,
   "metadata": {},
   "outputs": [
    {
     "data": {
      "text/plain": [
       "tensor([[12, 12],\n",
       "        [30, 30]], dtype=torch.int16)"
      ]
     },
     "execution_count": 6,
     "metadata": {},
     "output_type": "execute_result"
    }
   ],
   "source": [
    "#Numpy to torch tensors\n",
    "import numpy as np\n",
    "y = np.matrix([[2,2], [2,2], [2,2]])\n",
    "z = np.matrix([[2,2], [2,2], [2,2]], dtype=\"int16\")\n",
    "x.short() @ torch.from_numpy(z)"
   ]
  },
  {
   "cell_type": "code",
   "execution_count": 7,
   "metadata": {},
   "outputs": [
    {
     "data": {
      "text/plain": [
       "tensor([[1., 2., 3., 4., 5., 6.]])"
      ]
     },
     "execution_count": 7,
     "metadata": {},
     "output_type": "execute_result"
    }
   ],
   "source": [
    "#Reshape tensors(similar to np.reshape)\n",
    "x.view(1,6)"
   ]
  },
  {
   "cell_type": "code",
   "execution_count": 8,
   "metadata": {},
   "outputs": [],
   "source": [
    "#move variables and copies across computer devices\n",
    "x = torch.FloatTensor([[1,2,3], [4,5,6]])\n",
    "y = np.matrix([[2,2,2], [2,2,2]], dtype=\"float32\")"
   ]
  },
  {
   "cell_type": "code",
   "execution_count": 9,
   "metadata": {},
   "outputs": [
    {
     "name": "stdout",
     "output_type": "stream",
     "text": [
      "[[2 2]\n",
      " [2 2]\n",
      " [2 2]]\n",
      "tensor([[1., 2., 3.],\n",
      "        [4., 5., 6.]])\n"
     ]
    }
   ],
   "source": [
    "if(torch.cuda.is_available()):\n",
    "    x = x.cuda();\n",
    "    y = torch.from_numpy(y).cuda()\n",
    "    z = x + y\n",
    "print(z)\n",
    "print(x.cpu())"
   ]
  },
  {
   "cell_type": "markdown",
   "metadata": {},
   "source": [
    "# PyTorch Variables"
   ]
  },
  {
   "cell_type": "code",
   "execution_count": 14,
   "metadata": {},
   "outputs": [],
   "source": [
    "#Variable(part of autograd package)\n",
    "#Variable (graph nodes) are thin wrappers around tensors and hav\n",
    "\n",
    "from torch.autograd import Variable"
   ]
  },
  {
   "cell_type": "markdown",
   "metadata": {},
   "source": [
    "# Backpropagation\n"
   ]
  },
  {
   "cell_type": "markdown",
   "metadata": {},
   "source": [
    "# SLR: Simple Linear Regression"
   ]
  },
  {
   "cell_type": "code",
   "execution_count": 10,
   "metadata": {},
   "outputs": [],
   "source": [
    "#Simple Linear Regression\n",
    "# Fit a line to the data. Y= w.x + b\n",
    "# Deterministic behavior\n",
    "np.random.seed(0)\n",
    "torch.manual_seed(0)\n",
    "# Step 1: Dataset\n",
    "w = 2; b = 3\n",
    "x = np.linspace(0,10,100)\n",
    "y = w*x + b + np.random.randn(100) * 2\n",
    "x = x.reshape(-1,1)\n",
    "y = y.reshape(-1,1)"
   ]
  },
  {
   "cell_type": "code",
   "execution_count": 12,
   "metadata": {},
   "outputs": [],
   "source": [
    "# Step 2: Model\n",
    "class LinearRegressionModel(torch.nn.Module):\n",
    "    def __init__(self,in_dimn,out_dimn):\n",
    "        super(LinearRegressionModel,self).__init__()\n",
    "        self.model=torch.nn.Linear(in_dimn,out_dimn)\n",
    "        \n",
    "    def forward(self,x):\n",
    "        y_pred=self.model(x);\n",
    "        return y_pred;\n",
    "        \n",
    "model=LinearRegressionModel(in_dimn=1, out_dimn=1)"
   ]
  },
  {
   "cell_type": "code",
   "execution_count": null,
   "metadata": {},
   "outputs": [],
   "source": [
    "# Step 3: Training\n",
    "cost = torch.nn.MSELoss()\n",
    "optimizer = torch.optim.SGD(model.parameters(), lr=0.01, momentum=0.9)\n",
    "inputs = Variable(torch.from_numpy(x.astype(\"float32\")))\n",
    "outputs = Variable(torch.from_numpy(y.astype(\"float32\")))\n",
    "\n",
    "for epoch in range(100):\n",
    "#3.1 forward pass:\n",
    "    y_pred = model(inputs)\n",
    "    \n",
    "#3.2 compute loss\n",
    "    loss = cost(y_pred, outputs)\n",
    "\n",
    "#3.3 backward pass\n",
    "    optimizer.zero_grad() # by default, gradient accumulate\n",
    "    loss.backward()\n",
    "    optimizer.step()\n",
    "    if((epoch+1)%10==0):\n",
    "        print(\"epoch{},loss{}\".format(epoch+1,loss.data))"
   ]
  },
  {
   "cell_type": "code",
   "execution_count": 18,
   "metadata": {},
   "outputs": [
    {
     "data": {
      "image/png": "[encoded data removed]",
      "text/plain": [
       "<Figure size 288x288 with 1 Axes>"
      ]
     },
     "metadata": {
      "needs_background": "light"
     },
     "output_type": "display_data"
    }
   ],
   "source": [
    "# Step 4: Display model and confirm\n",
    "import matplotlib.pyplot as plt\n",
    "plt.figure(figsize=(4,4))\n",
    "plt.title(\"Model and Dataset\")\n",
    "plt.xlabel(\"X\");plt.ylabel(\"Y\")\n",
    "plt.grid()\n",
    "plt.plot(x,y,\"ro\",label=\"Dataset\",marker=\"x\",markersize=4)\n",
    "plt.plot(x,model.model.weight.item()*x+model.model.bias.item(), label=\"Regression Model\")\n",
    "plt.legend();plt.show()"
   ]
  },
  {
   "cell_type": "code",
   "execution_count": null,
   "metadata": {},
   "outputs": [],
   "source": []
  }
 ],
 "metadata": {
  "kernelspec": {
   "display_name": "Python 3",
   "language": "python",
   "name": "python3"
  },
  "language_info": {
   "codemirror_mode": {
    "name": "ipython",
    "version": 3
   },
   "file_extension": ".py",
   "mimetype": "text/x-python",
   "name": "python",
   "nbconvert_exporter": "python",
   "pygments_lexer": "ipython3",
   "version": "3.7.3"
  }
 },
 "nbformat": 4,
 "nbformat_minor": 2
}
